{
 "cells": [
  {
   "cell_type": "markdown",
   "id": "69d5a3b5-b0d0-41ba-a484-e38531ae8162",
   "metadata": {
    "jp-MarkdownHeadingCollapsed": true
   },
   "source": [
    "# SAMPLE "
   ]
  },
  {
   "cell_type": "code",
   "execution_count": null,
   "id": "2749af88-cfb6-4d19-9b1d-5414feec96f1",
   "metadata": {},
   "outputs": [],
   "source": [
    "import os\n",
    "os.environ['SPARK_HOME']='/Users/audioworkstation/Documents/WORKSPACE/LEARNING/pyspark-training/spark'\n",
    "os.environ['PYSPARK_DRIVER_PYTHON']='jupyter'\n",
    "os.environ['PYSPARK_DRIVER_PYTHON_OPTS']='lab'\n",
    "os.environ['PYSPARK_PYTHON']='python'\n",
    "from pyspark.sql import SparkSession"
   ]
  },
  {
   "cell_type": "code",
   "execution_count": null,
   "id": "c2a448f9-74b2-4c7e-b615-821042b34c79",
   "metadata": {},
   "outputs": [],
   "source": [
    "spark = SparkSession.builder.appName('PySpark_starter').getOrCreate()"
   ]
  },
  {
   "cell_type": "code",
   "execution_count": null,
   "id": "68e1358f-8031-4cf9-8ffd-ed538072fbf2",
   "metadata": {},
   "outputs": [],
   "source": [
    "data = [('Alice', 24), ('Bob', 30), ('Gen', 31)]\n",
    "df = spark.createDataFrame(data, ['Name', 'Age'])\n",
    "df.show()"
   ]
  },
  {
   "cell_type": "markdown",
   "id": "8ed83b0d-1565-4080-b2b8-013691756068",
   "metadata": {
    "jp-MarkdownHeadingCollapsed": true
   },
   "source": [
    "# CREATING SPARK CONTEXT\n"
   ]
  },
  {
   "cell_type": "markdown",
   "id": "0ea7690f-a43c-48d3-a105-0b125bc25f89",
   "metadata": {},
   "source": [
    "in version 1.x\n"
   ]
  },
  {
   "cell_type": "code",
   "execution_count": null,
   "id": "d1af539b-0261-4b53-9531-342570dd0532",
   "metadata": {},
   "outputs": [],
   "source": [
    "from pyspark import SparkContext\n",
    "sc = SparkContext(appName='My Spark Application')\n",
    "sc"
   ]
  },
  {
   "cell_type": "code",
   "execution_count": null,
   "id": "f0dba0ef-ea5b-409c-875f-11ba8a0aadee",
   "metadata": {},
   "outputs": [],
   "source": [
    "sc.stop()"
   ]
  },
  {
   "cell_type": "markdown",
   "id": "3146d2e0-5bee-4871-a87d-c5130bf4b5a5",
   "metadata": {
    "jp-MarkdownHeadingCollapsed": true
   },
   "source": [
    "in version 2.x (suggested method)"
   ]
  },
  {
   "cell_type": "code",
   "execution_count": null,
   "id": "465b46e6-d9d0-466f-9d81-952786e2b503",
   "metadata": {},
   "outputs": [],
   "source": [
    "from pyspark.sql import SparkSession\n",
    "\n",
    "ss = SparkSession.builder.appName('SparkSessionApp').getOrCreate()\n",
    "sc = ss.sparkContext\n",
    "sc"
   ]
  },
  {
   "cell_type": "code",
   "execution_count": null,
   "id": "2f036864-8416-4348-90bb-6b428865f3c9",
   "metadata": {},
   "outputs": [],
   "source": [
    "ss.stop()"
   ]
  },
  {
   "cell_type": "markdown",
   "id": "3ad78623-bd93-400f-833a-92b88336f1b1",
   "metadata": {
    "jp-MarkdownHeadingCollapsed": true
   },
   "source": [
    "# CREATE SPARK SESSION USING CONFIGS"
   ]
  },
  {
   "cell_type": "code",
   "execution_count": null,
   "id": "c0d41836-b39f-4f9f-8963-733b688e23ed",
   "metadata": {},
   "outputs": [],
   "source": [
    "from pyspark.sql import SparkSession\n",
    "ss = SparkSession.builder \\\n",
    "    .appName('MySparkApp') \\\n",
    "    .config('spark.executer.memory', '2g') \\\n",
    "    .config('spark.sql.shuffle.partitions', '4') \\\n",
    "    .getOrCreate()\n",
    "ss"
   ]
  },
  {
   "cell_type": "code",
   "execution_count": null,
   "id": "0f83be35-e975-45f0-a7a3-c2a2e7477607",
   "metadata": {},
   "outputs": [],
   "source": [
    "ss.stop()"
   ]
  },
  {
   "cell_type": "markdown",
   "id": "aed46a39-9880-4407-929a-e6b8eafe15d7",
   "metadata": {},
   "source": [
    "# RDDs\n"
   ]
  },
  {
   "cell_type": "code",
   "execution_count": 8,
   "id": "0571b61d-c015-499b-8b57-6485afb5b2c5",
   "metadata": {},
   "outputs": [],
   "source": [
    "import os\n",
    "import findspark\n",
    "findspark.init()\n",
    "\n",
    "from pyspark.sql import SparkSession\n",
    "os.environ['SPARK_HOME']='/Users/audioworkstation/Documents/WORKSPACE/LEARNING/pyspark-training/spark'\n",
    "os.environ['PYSPARK_DRIVER_PYTHON']='jupyter'\n",
    "os.environ['PYSPARK_DRIVER_PYTHON_OPTS']='lab'\n",
    "os.environ['PYSPARK_PYTHON']='python'\n",
    "\n",
    "\n",
    "spark = SparkSession.builder.appName(\"RDD\").getOrCreate()"
   ]
  },
  {
   "cell_type": "markdown",
   "id": "83049661-afb6-4138-800c-5e3e0b6d4ef8",
   "metadata": {},
   "source": [
    "##### ACTIONS"
   ]
  },
  {
   "cell_type": "code",
   "execution_count": 9,
   "id": "1f972791-b24f-4cd5-ac41-49c8bcbd0d3e",
   "metadata": {},
   "outputs": [
    {
     "name": "stdout",
     "output_type": "stream",
     "text": [
      "[1, 2, 3, 4, 5, 6, 7, 8, 9, 10]\n",
      "10\n",
      "1\n",
      "[1, 2]\n",
      "None\n"
     ]
    },
    {
     "name": "stderr",
     "output_type": "stream",
     "text": [
      "8\n",
      "3\n",
      "6\n",
      "7\n",
      "2\n",
      "4\n",
      "5\n",
      "1\n",
      "9\n",
      "10\n"
     ]
    }
   ],
   "source": [
    "numbers = range(1,11)\n",
    "rdd = spark.sparkContext.parallelize(numbers)\n",
    "print(rdd.collect())\n",
    "print(rdd.count())\n",
    "print(rdd.first())\n",
    "print(rdd.take(2))\n",
    "print(rdd.foreach(lambda x: print(x)))"
   ]
  },
  {
   "cell_type": "code",
   "execution_count": 19,
   "id": "e14fdabc-25b5-41c6-83e8-958b32658134",
   "metadata": {},
   "outputs": [],
   "source": [
    "data = [('Alice', 24), ('Bob', 30), ('Gen', 31), ('Bob', 10)]\n",
    "rdd = spark.sparkContext.parallelize(data)"
   ]
  },
  {
   "cell_type": "code",
   "execution_count": 11,
   "id": "e19eb575-860e-4cac-81d0-2a14f6162b97",
   "metadata": {},
   "outputs": [
    {
     "data": {
      "text/plain": [
       "3"
      ]
     },
     "execution_count": 11,
     "metadata": {},
     "output_type": "execute_result"
    }
   ],
   "source": [
    "rdd.count()"
   ]
  },
  {
   "cell_type": "code",
   "execution_count": 12,
   "id": "76b21159-2b2b-441f-a521-4251dca8a31a",
   "metadata": {},
   "outputs": [
    {
     "name": "stderr",
     "output_type": "stream",
     "text": [
      "('Alice', 24)\n",
      "('Gen', 31)\n",
      "('Bob', 30)\n"
     ]
    }
   ],
   "source": [
    "rdd.foreach(lambda x: print(x))"
   ]
  },
  {
   "cell_type": "markdown",
   "id": "965b4fd3-7c6c-4999-90fd-7af76651ce58",
   "metadata": {},
   "source": [
    "#### Transformations"
   ]
  },
  {
   "cell_type": "code",
   "execution_count": 13,
   "id": "bd46fc7c-088a-41c0-95bc-b8a2ce6420e4",
   "metadata": {},
   "outputs": [
    {
     "data": {
      "text/plain": [
       "[('ALICE', 24), ('BOB', 30), ('GEN', 31)]"
      ]
     },
     "execution_count": 13,
     "metadata": {},
     "output_type": "execute_result"
    }
   ],
   "source": [
    "mapped_rdd = rdd.map(lambda x: (x[0].upper(), x[1]))\n",
    "result = mapped_rdd.collect()\n",
    "result"
   ]
  },
  {
   "cell_type": "code",
   "execution_count": 17,
   "id": "e9bbc4d2-2801-474e-9a2f-767f508fa307",
   "metadata": {},
   "outputs": [
    {
     "data": {
      "text/plain": [
       "[('Gen', 31)]"
      ]
     },
     "execution_count": 17,
     "metadata": {},
     "output_type": "execute_result"
    }
   ],
   "source": [
    "filtered = rdd.filter(lambda x: x[1]> 30)\n",
    "filtered.collect()"
   ]
  },
  {
   "cell_type": "code",
   "execution_count": 20,
   "id": "4d34952b-84f0-43bc-954c-7124ad14f6bc",
   "metadata": {},
   "outputs": [
    {
     "data": {
      "text/plain": [
       "[('Bob', 40), ('Gen', 31), ('Alice', 24)]"
      ]
     },
     "execution_count": 20,
     "metadata": {},
     "output_type": "execute_result"
    }
   ],
   "source": [
    "# Calculate the total age for each name\n",
    "reduced = rdd.reduceByKey(lambda x, y: x + y)\n",
    "reduced.collect()"
   ]
  },
  {
   "cell_type": "code",
   "execution_count": 33,
   "id": "87728955-7627-4f7a-892c-a50b2fc51e91",
   "metadata": {},
   "outputs": [
    {
     "data": {
      "text/plain": [
       "dict_items([('Alice', 24), ('Bob', 40), ('Gen', 31)])"
      ]
     },
     "execution_count": 33,
     "metadata": {},
     "output_type": "execute_result"
    }
   ],
   "source": [
    "# return the results immediately to the master as a dictionary.\n",
    "rdd.reduceByKeyLocally(add).items()"
   ]
  },
  {
   "cell_type": "code",
   "execution_count": 28,
   "id": "a3548745-78ca-4da8-9691-a8e1a07befdf",
   "metadata": {},
   "outputs": [
    {
     "data": {
      "text/plain": [
       "95"
      ]
     },
     "execution_count": 28,
     "metadata": {},
     "output_type": "execute_result"
    }
   ],
   "source": [
    "from operator import add\n",
    "reduced_2 = rdd.reduce(lambda x, y: (\"\", x[1] + y[1]))\n",
    "reduced_2[1]"
   ]
  },
  {
   "cell_type": "code",
   "execution_count": 21,
   "id": "d7187ff3-a4b7-407a-8551-7336a073a1c8",
   "metadata": {},
   "outputs": [
    {
     "data": {
      "text/plain": [
       "[('Bob', 10), ('Alice', 24), ('Bob', 30), ('Gen', 31)]"
      ]
     },
     "execution_count": 21,
     "metadata": {},
     "output_type": "execute_result"
    }
   ],
   "source": [
    "sorted = rdd.sortBy(lambda x: x[1], ascending=True)\n",
    "sorted.collect()"
   ]
  },
  {
   "cell_type": "markdown",
   "id": "bb4a7a64-0d23-44cc-89ba-32342d97f7d2",
   "metadata": {},
   "source": [
    "## RDD & FILES"
   ]
  },
  {
   "cell_type": "code",
   "execution_count": 35,
   "id": "666a93ed-9f27-4c0d-9d64-6234c3cc98f8",
   "metadata": {},
   "outputs": [],
   "source": [
    "rdd.saveAsTextFile('output.txt')"
   ]
  },
  {
   "cell_type": "code",
   "execution_count": 36,
   "id": "73632391-0f8e-4bdc-9934-e8fefabf47de",
   "metadata": {},
   "outputs": [],
   "source": [
    "rdd_from_text = spark.sparkContext.textFile('output.txt')"
   ]
  },
  {
   "cell_type": "code",
   "execution_count": 37,
   "id": "45c323ac-fcba-458e-9fa5-b38f5c9d21fa",
   "metadata": {},
   "outputs": [
    {
     "data": {
      "text/plain": [
       "[\"('Gen', 31)\", \"('Bob', 30)\", \"('Alice', 24)\", \"('Bob', 10)\"]"
      ]
     },
     "execution_count": 37,
     "metadata": {},
     "output_type": "execute_result"
    }
   ],
   "source": [
    "rdd_from_text.collect()"
   ]
  },
  {
   "cell_type": "code",
   "execution_count": 38,
   "id": "cd788da7-3b07-48c1-b2fb-f8b34dfebe0e",
   "metadata": {},
   "outputs": [],
   "source": [
    "spark.stop()"
   ]
  },
  {
   "cell_type": "code",
   "execution_count": null,
   "id": "f4e14715-7df5-4d65-a5e6-e84c3dc5ac43",
   "metadata": {},
   "outputs": [],
   "source": []
  }
 ],
 "metadata": {
  "kernelspec": {
   "display_name": "Python 3 (ipykernel)",
   "language": "python",
   "name": "python3"
  },
  "language_info": {
   "codemirror_mode": {
    "name": "ipython",
    "version": 3
   },
   "file_extension": ".py",
   "mimetype": "text/x-python",
   "name": "python",
   "nbconvert_exporter": "python",
   "pygments_lexer": "ipython3",
   "version": "3.10.11"
  }
 },
 "nbformat": 4,
 "nbformat_minor": 5
}
