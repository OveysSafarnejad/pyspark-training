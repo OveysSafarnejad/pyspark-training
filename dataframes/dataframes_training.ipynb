{
 "cells": [
  {
   "cell_type": "code",
   "execution_count": 2,
   "id": "318acf25-c021-4657-ae86-2fa31770bc31",
   "metadata": {},
   "outputs": [],
   "source": [
    "import os\n",
    "import findspark\n",
    "findspark.init()\n",
    "\n",
    "from pyspark.sql import SparkSession\n",
    "from pyspark.sql.functions import desc\n",
    "\n",
    "os.environ['SPARK_HOME']='/Users/audioworkstation/Documents/WORKSPACE/LEARNING/pyspark-training/spark'\n",
    "os.environ['PYSPARK_DRIVER_PYTHON']='jupyter'\n",
    "os.environ['PYSPARK_DRIVER_PYTHON_OPTS']='lab'\n",
    "os.environ['PYSPARK_PYTHON']='python'\n",
    "\n",
    "\n",
    "spark = SparkSession.builder.appName(\"RDD\").getOrCreate()"
   ]
  },
  {
   "cell_type": "markdown",
   "id": "6e9b0d14-edcb-4393-a774-98d9d2a4e919",
   "metadata": {},
   "source": [
    "## Using RDDs"
   ]
  },
  {
   "cell_type": "code",
   "execution_count": 21,
   "id": "e29fc860-cc3a-4a77-9c1c-9072ac87ee65",
   "metadata": {},
   "outputs": [
    {
     "data": {
      "text/plain": [
       "[('the', 12),\n",
       " ('of', 7),\n",
       " ('a', 7),\n",
       " ('in', 5),\n",
       " ('distributed', 5),\n",
       " ('Spark', 4),\n",
       " ('is', 3),\n",
       " ('as', 3),\n",
       " ('API', 3),\n",
       " ('on', 3)]"
      ]
     },
     "execution_count": 21,
     "metadata": {},
     "output_type": "execute_result"
    }
   ],
   "source": [
    "rdd = spark.sparkContext.textFile('./data.txt')\n",
    "# rdd.collect() is a list of 3 items\n",
    "\n",
    "result_rdd = rdd.flatMap(lambda line: line.split(\" \")) \\\n",
    "    .map(lambda word: (word, 1)) \\\n",
    "    .reduceByKey(lambda a, b: a + b) \\\n",
    "    .sortBy(lambda x: x[1], ascending=False)\n",
    "result_rdd.take(10)"
   ]
  },
  {
   "cell_type": "markdown",
   "id": "1d263fd2-b347-4b86-b80a-e039796e8d27",
   "metadata": {},
   "source": [
    "## Using DataFrames"
   ]
  },
  {
   "cell_type": "code",
   "execution_count": 26,
   "id": "f78c77dd-3a5b-4d47-923c-140c53b9d567",
   "metadata": {},
   "outputs": [
    {
     "name": "stdout",
     "output_type": "stream",
     "text": [
      "+-----------+-----+\n",
      "|       word|count|\n",
      "+-----------+-----+\n",
      "|        the|   12|\n",
      "|         of|    7|\n",
      "|          a|    7|\n",
      "|         in|    5|\n",
      "|distributed|    5|\n",
      "|      Spark|    4|\n",
      "|        API|    3|\n",
      "|        RDD|    3|\n",
      "|         is|    3|\n",
      "|         on|    3|\n",
      "|    Dataset|    3|\n",
      "|         as|    3|\n",
      "|       data|    2|\n",
      "|   programs|    2|\n",
      "|        its|    2|\n",
      "|       API.|    2|\n",
      "|        and|    2|\n",
      "|  MapReduce|    2|\n",
      "|       RDDs|    2|\n",
      "|        The|    2|\n",
      "+-----------+-----+\n",
      "only showing top 20 rows\n",
      "\n"
     ]
    }
   ],
   "source": [
    "df = spark.read.text('./data.txt')\n",
    "result_df = df.selectExpr(\"explode(split(value, ' ')) as word\") \\\n",
    "    .groupBy('word').count().orderBy(desc('count'))\n",
    "result_df.show()"
   ]
  },
  {
   "cell_type": "code",
   "execution_count": 27,
   "id": "b838224a-c542-424f-b2ee-64eed584665d",
   "metadata": {},
   "outputs": [
    {
     "data": {
      "text/plain": [
       "[Row(word='the', count=12),\n",
       " Row(word='of', count=7),\n",
       " Row(word='a', count=7),\n",
       " Row(word='in', count=5),\n",
       " Row(word='distributed', count=5)]"
      ]
     },
     "execution_count": 27,
     "metadata": {},
     "output_type": "execute_result"
    }
   ],
   "source": [
    "result_df.take(5)"
   ]
  },
  {
   "cell_type": "code",
   "execution_count": null,
   "id": "a42f4f72-aac0-4d31-b814-9438a0130b8c",
   "metadata": {},
   "outputs": [],
   "source": [
    "spark.stop()"
   ]
  }
 ],
 "metadata": {
  "kernelspec": {
   "display_name": "Python 3 (ipykernel)",
   "language": "python",
   "name": "python3"
  },
  "language_info": {
   "codemirror_mode": {
    "name": "ipython",
    "version": 3
   },
   "file_extension": ".py",
   "mimetype": "text/x-python",
   "name": "python",
   "nbconvert_exporter": "python",
   "pygments_lexer": "ipython3",
   "version": "3.10.11"
  }
 },
 "nbformat": 4,
 "nbformat_minor": 5
}
