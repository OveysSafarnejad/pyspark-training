{
 "cells": [
  {
   "cell_type": "code",
   "execution_count": 2,
   "id": "e3069d0f-bf32-4605-b69e-2cfae52eecd0",
   "metadata": {},
   "outputs": [
    {
     "name": "stderr",
     "output_type": "stream",
     "text": [
      "23/11/10 11:31:05 WARN SparkSession: Using an existing Spark session; only runtime SQL configurations will take effect.\n"
     ]
    }
   ],
   "source": [
    "import os\n",
    "import findspark\n",
    "findspark.init()\n",
    "\n",
    "from pyspark.sql import SparkSession\n",
    "os.environ['SPARK_HOME']='/Users/audioworkstation/Documents/WORKSPACE/LEARNING/pyspark-training/spark'\n",
    "os.environ['PYSPARK_DRIVER_PYTHON']='jupyter'\n",
    "os.environ['PYSPARK_DRIVER_PYTHON_OPTS']='lab'\n",
    "os.environ['PYSPARK_PYTHON']='python'\n",
    "\n",
    "\n",
    "spark = SparkSession.builder.appName(\"Dataframe Operations\").getOrCreate()"
   ]
  },
  {
   "cell_type": "code",
   "execution_count": 3,
   "id": "b269faf6-ec7b-4026-8a79-5189c95ebbc1",
   "metadata": {},
   "outputs": [
    {
     "name": "stdout",
     "output_type": "stream",
     "text": [
      "id,name,category,quantity,price\n",
      "1,iPhone,Electronics,10,899.99\n",
      "2,Macbook,Electronics,5,1299.99\n",
      "3,iPad,Electronics,15,499.99\n",
      "4,Samsung TV,Electronics,8,799.99\n",
      "5,LG TV,Electronics,10,699.99\n",
      "6,Nike Shoes,Clothing,30,99.99\n",
      "7,Adidas Shoes,Clothing,25,89.99\n",
      "8,Sony Headphones,Electronics,12,149.99\n",
      "9,Beats Headphones,Electronics,20,199.99\n"
     ]
    }
   ],
   "source": [
    "%%bash \n",
    "head -n 10 ./resources/stocks.txt"
   ]
  },
  {
   "cell_type": "code",
   "execution_count": 7,
   "id": "ff4b79e0-726e-4ccc-acee-dd9e38741e35",
   "metadata": {},
   "outputs": [
    {
     "name": "stdout",
     "output_type": "stream",
     "text": [
      "+---+----------------+-----------+--------+-------+\n",
      "| id|            name|   category|quantity|  price|\n",
      "+---+----------------+-----------+--------+-------+\n",
      "|  1|          iPhone|Electronics|      10| 899.99|\n",
      "|  2|         Macbook|Electronics|       5|1299.99|\n",
      "|  3|            iPad|Electronics|      15| 499.99|\n",
      "|  4|      Samsung TV|Electronics|       8| 799.99|\n",
      "|  5|           LG TV|Electronics|      10| 699.99|\n",
      "|  6|      Nike Shoes|   Clothing|      30|  99.99|\n",
      "|  7|    Adidas Shoes|   Clothing|      25|  89.99|\n",
      "|  8| Sony Headphones|Electronics|      12| 149.99|\n",
      "|  9|Beats Headphones|Electronics|      20| 199.99|\n",
      "| 10|    Dining Table|  Furniture|      10| 249.99|\n",
      "+---+----------------+-----------+--------+-------+\n",
      "only showing top 10 rows\n",
      "\n"
     ]
    }
   ],
   "source": [
    "df = spark.read.csv(\n",
    "    './resources/stocks.txt',\n",
    "    header=True,\n",
    "    inferSchema=True\n",
    ")\n",
    "df.show(10)"
   ]
  },
  {
   "cell_type": "markdown",
   "id": "90194545-2adc-42b2-b19d-7091e442ce6b",
   "metadata": {},
   "source": [
    "### SELECT"
   ]
  },
  {
   "cell_type": "code",
   "execution_count": 12,
   "id": "c1282509-dba1-4456-842d-ff26b9924521",
   "metadata": {},
   "outputs": [
    {
     "name": "stdout",
     "output_type": "stream",
     "text": [
      "+---+----------------+-----------+\n",
      "| id|            name|   category|\n",
      "+---+----------------+-----------+\n",
      "|  1|          iPhone|Electronics|\n",
      "|  2|         Macbook|Electronics|\n",
      "|  3|            iPad|Electronics|\n",
      "|  4|      Samsung TV|Electronics|\n",
      "|  5|           LG TV|Electronics|\n",
      "|  6|      Nike Shoes|   Clothing|\n",
      "|  7|    Adidas Shoes|   Clothing|\n",
      "|  8| Sony Headphones|Electronics|\n",
      "|  9|Beats Headphones|Electronics|\n",
      "| 10|    Dining Table|  Furniture|\n",
      "| 11|      Study Desk|  Furniture|\n",
      "| 12|          Apples|       Food|\n",
      "| 13|         Bananas|       Food|\n",
      "| 14|         Oranges|       Food|\n",
      "| 15|  Chicken Breast|       Food|\n",
      "| 16|   Salmon Fillet|       Food|\n",
      "| 17|  Leather Jacket|   Clothing|\n",
      "| 18|     Winter Coat|   Clothing|\n",
      "| 19|        Yoga Mat|     Sports|\n",
      "| 20|    Dumbbell Set|     Sports|\n",
      "+---+----------------+-----------+\n",
      "only showing top 20 rows\n",
      "\n"
     ]
    }
   ],
   "source": [
    "df.select('id', 'name', 'category').show()"
   ]
  },
  {
   "cell_type": "markdown",
   "id": "42cb33ed-fb99-498d-ad54-f9d324fbb2d5",
   "metadata": {},
   "source": [
    "### FILTER"
   ]
  },
  {
   "cell_type": "code",
   "execution_count": 13,
   "id": "8f9fcc5b-e702-48ba-bd4d-5ca6f92d4c0d",
   "metadata": {},
   "outputs": [
    {
     "name": "stdout",
     "output_type": "stream",
     "text": [
      "+---+----------------+-----------+--------+------+\n",
      "| id|            name|   category|quantity| price|\n",
      "+---+----------------+-----------+--------+------+\n",
      "|  3|            iPad|Electronics|      15|499.99|\n",
      "|  6|      Nike Shoes|   Clothing|      30| 99.99|\n",
      "|  7|    Adidas Shoes|   Clothing|      25| 89.99|\n",
      "|  8| Sony Headphones|Electronics|      12|149.99|\n",
      "|  9|Beats Headphones|Electronics|      20|199.99|\n",
      "| 12|          Apples|       Food|     100|   0.5|\n",
      "| 13|         Bananas|       Food|     150|  0.25|\n",
      "| 14|         Oranges|       Food|     120|  0.75|\n",
      "| 15|  Chicken Breast|       Food|      50|  3.99|\n",
      "| 16|   Salmon Fillet|       Food|      30|  5.99|\n",
      "| 17|  Leather Jacket|   Clothing|      15|199.99|\n",
      "| 19|        Yoga Mat|     Sports|      20| 19.99|\n",
      "| 20|    Dumbbell Set|     Sports|      15| 49.99|\n",
      "| 24|      Laptop Bag|Accessories|      25| 29.99|\n",
      "| 25|        Backpack|Accessories|      30| 24.99|\n",
      "| 28|           Jeans|   Clothing|      30| 59.99|\n",
      "| 29|         T-shirt|   Clothing|      50| 14.99|\n",
      "| 30|        Sneakers|   Clothing|      40| 79.99|\n",
      "+---+----------------+-----------+--------+------+\n",
      "\n"
     ]
    }
   ],
   "source": [
    "df.filter(df.quantity > 10).show()"
   ]
  },
  {
   "cell_type": "markdown",
   "id": "d749a64e-1125-4e3f-8b62-23092a971b9a",
   "metadata": {},
   "source": [
    "### GroupBy"
   ]
  },
  {
   "cell_type": "code",
   "execution_count": 15,
   "id": "01ffe500-e959-4476-a81b-8540904ef15d",
   "metadata": {},
   "outputs": [
    {
     "name": "stdout",
     "output_type": "stream",
     "text": [
      "+-----------+-----+\n",
      "|   category|count|\n",
      "+-----------+-----+\n",
      "|       Food|    5|\n",
      "|     Sports|    2|\n",
      "|Electronics|    9|\n",
      "|   Clothing|    7|\n",
      "|  Furniture|    5|\n",
      "|Accessories|    2|\n",
      "+-----------+-----+\n",
      "\n"
     ]
    }
   ],
   "source": [
    "df.groupby('category').count().show()"
   ]
  },
  {
   "cell_type": "code",
   "execution_count": 22,
   "id": "14200452-419f-484d-a71c-e2ff05a0daef",
   "metadata": {},
   "outputs": [
    {
     "name": "stdout",
     "output_type": "stream",
     "text": [
      "+-----------+-------------+------------------+---------+\n",
      "|   category|sum(quantity)|        avg(price)|count(id)|\n",
      "+-----------+-------------+------------------+---------+\n",
      "|       Food|          450|2.2960000000000003|        5|\n",
      "|     Sports|           35|             34.99|        2|\n",
      "|Electronics|           98| 586.6566666666665|        9|\n",
      "|   Clothing|          200|  99.2757142857143|        7|\n",
      "|  Furniture|           41|            141.99|        5|\n",
      "|Accessories|           55|             27.49|        2|\n",
      "+-----------+-------------+------------------+---------+\n",
      "\n"
     ]
    }
   ],
   "source": [
    "df.groupby('category').agg({\n",
    "    \"quantity\":\"sum\",\n",
    "    \"price\":\"avg\",\n",
    "    \"id\":\"count\"\n",
    "}).show()"
   ]
  },
  {
   "cell_type": "markdown",
   "id": "37b22d43-cc5f-4a30-9424-8c5ee36d6640",
   "metadata": {},
   "source": [
    "### JOINS"
   ]
  },
  {
   "cell_type": "code",
   "execution_count": 24,
   "id": "ddaf5d6d-68c0-4346-8916-becf28b00c47",
   "metadata": {},
   "outputs": [
    {
     "name": "stdout",
     "output_type": "stream",
     "text": [
      "+---+----------+-----------+--------+-------+-----------+\n",
      "| id|      name|   category|quantity|  price|   category|\n",
      "+---+----------+-----------+--------+-------+-----------+\n",
      "|  1|    iPhone|Electronics|      10| 899.99|Electronics|\n",
      "|  2|   Macbook|Electronics|       5|1299.99|Electronics|\n",
      "|  3|      iPad|Electronics|      15| 499.99|Electronics|\n",
      "|  4|Samsung TV|Electronics|       8| 799.99|Electronics|\n",
      "|  5|     LG TV|Electronics|      10| 699.99|Electronics|\n",
      "+---+----------+-----------+--------+-------+-----------+\n",
      "\n"
     ]
    }
   ],
   "source": [
    "df_2 = df.select('id', 'category').limit(5)\n",
    "df.join(df_2, 'id', 'inner').show()"
   ]
  },
  {
   "cell_type": "markdown",
   "id": "29fb96f7-bfd9-4523-a409-42a26473a635",
   "metadata": {},
   "source": [
    "### SORT"
   ]
  },
  {
   "cell_type": "code",
   "execution_count": 32,
   "id": "98eb50dd-958a-461d-b486-3d4b6272a3b7",
   "metadata": {},
   "outputs": [
    {
     "name": "stdout",
     "output_type": "stream",
     "text": [
      "+---+---------------+-----------+--------+------+\n",
      "| id|           name|   category|quantity| price|\n",
      "+---+---------------+-----------+--------+------+\n",
      "| 13|        Bananas|       Food|     150|  0.25|\n",
      "| 12|         Apples|       Food|     100|   0.5|\n",
      "| 14|        Oranges|       Food|     120|  0.75|\n",
      "| 15| Chicken Breast|       Food|      50|  3.99|\n",
      "| 16|  Salmon Fillet|       Food|      30|  5.99|\n",
      "| 29|        T-shirt|   Clothing|      50| 14.99|\n",
      "| 19|       Yoga Mat|     Sports|      20| 19.99|\n",
      "| 25|       Backpack|Accessories|      30| 24.99|\n",
      "| 24|     Laptop Bag|Accessories|      25| 29.99|\n",
      "| 20|   Dumbbell Set|     Sports|      15| 49.99|\n",
      "| 28|          Jeans|   Clothing|      30| 59.99|\n",
      "| 22|   Office Chair|  Furniture|       8| 79.99|\n",
      "| 30|       Sneakers|   Clothing|      40| 79.99|\n",
      "|  7|   Adidas Shoes|   Clothing|      25| 89.99|\n",
      "|  6|     Nike Shoes|   Clothing|      30| 99.99|\n",
      "| 23|      Bookshelf|  Furniture|      10| 99.99|\n",
      "| 21|   Coffee Table|  Furniture|       5|129.99|\n",
      "| 27|        Printer|Electronics|       8|129.99|\n",
      "|  8|Sony Headphones|Electronics|      12|149.99|\n",
      "| 11|     Study Desk|  Furniture|       8|149.99|\n",
      "+---+---------------+-----------+--------+------+\n",
      "only showing top 20 rows\n",
      "\n"
     ]
    }
   ],
   "source": [
    "df.orderBy('price').show()"
   ]
  },
  {
   "cell_type": "code",
   "execution_count": 33,
   "id": "69ceb2cc-2677-4802-abad-91d7cb136add",
   "metadata": {},
   "outputs": [
    {
     "name": "stdout",
     "output_type": "stream",
     "text": [
      "+---+----------------+-----------+--------+-------+\n",
      "| id|            name|   category|quantity|  price|\n",
      "+---+----------------+-----------+--------+-------+\n",
      "|  2|         Macbook|Electronics|       5|1299.99|\n",
      "|  1|          iPhone|Electronics|      10| 899.99|\n",
      "|  4|      Samsung TV|Electronics|       8| 799.99|\n",
      "|  5|           LG TV|Electronics|      10| 699.99|\n",
      "| 26|          Camera|Electronics|      10| 599.99|\n",
      "|  3|            iPad|Electronics|      15| 499.99|\n",
      "| 10|    Dining Table|  Furniture|      10| 249.99|\n",
      "|  9|Beats Headphones|Electronics|      20| 199.99|\n",
      "| 17|  Leather Jacket|   Clothing|      15| 199.99|\n",
      "|  8| Sony Headphones|Electronics|      12| 149.99|\n",
      "| 18|     Winter Coat|   Clothing|      10| 149.99|\n",
      "| 11|      Study Desk|  Furniture|       8| 149.99|\n",
      "| 27|         Printer|Electronics|       8| 129.99|\n",
      "| 21|    Coffee Table|  Furniture|       5| 129.99|\n",
      "|  6|      Nike Shoes|   Clothing|      30|  99.99|\n",
      "| 23|       Bookshelf|  Furniture|      10|  99.99|\n",
      "|  7|    Adidas Shoes|   Clothing|      25|  89.99|\n",
      "| 30|        Sneakers|   Clothing|      40|  79.99|\n",
      "| 22|    Office Chair|  Furniture|       8|  79.99|\n",
      "| 28|           Jeans|   Clothing|      30|  59.99|\n",
      "+---+----------------+-----------+--------+-------+\n",
      "only showing top 20 rows\n",
      "\n"
     ]
    }
   ],
   "source": [
    "from pyspark.sql.functions import desc, col\n",
    "\n",
    "df.orderBy(col('price').desc(), col('quantity').desc()).show()\n"
   ]
  },
  {
   "cell_type": "markdown",
   "id": "a389eba0-8791-4001-8133-af6a904cb2da",
   "metadata": {},
   "source": [
    "### DISTINCT"
   ]
  },
  {
   "cell_type": "code",
   "execution_count": 35,
   "id": "7544f187-0785-4201-9efc-1b9c56228e94",
   "metadata": {},
   "outputs": [
    {
     "name": "stdout",
     "output_type": "stream",
     "text": [
      "+-----------+\n",
      "|   category|\n",
      "+-----------+\n",
      "|       Food|\n",
      "|     Sports|\n",
      "|Electronics|\n",
      "|   Clothing|\n",
      "|  Furniture|\n",
      "|Accessories|\n",
      "+-----------+\n",
      "\n"
     ]
    }
   ],
   "source": [
    "df.select('category').distinct().show()"
   ]
  },
  {
   "cell_type": "markdown",
   "id": "6c33099e-c238-40f9-9e93-eb242e279d8e",
   "metadata": {},
   "source": [
    "### DROP"
   ]
  },
  {
   "cell_type": "code",
   "execution_count": 36,
   "id": "2303b69a-2820-482a-8cd6-b7fcd931a806",
   "metadata": {},
   "outputs": [
    {
     "name": "stdout",
     "output_type": "stream",
     "text": [
      "+---+----------------+-----------+-------+\n",
      "| id|            name|   category|  price|\n",
      "+---+----------------+-----------+-------+\n",
      "|  1|          iPhone|Electronics| 899.99|\n",
      "|  2|         Macbook|Electronics|1299.99|\n",
      "|  3|            iPad|Electronics| 499.99|\n",
      "|  4|      Samsung TV|Electronics| 799.99|\n",
      "|  5|           LG TV|Electronics| 699.99|\n",
      "|  6|      Nike Shoes|   Clothing|  99.99|\n",
      "|  7|    Adidas Shoes|   Clothing|  89.99|\n",
      "|  8| Sony Headphones|Electronics| 149.99|\n",
      "|  9|Beats Headphones|Electronics| 199.99|\n",
      "| 10|    Dining Table|  Furniture| 249.99|\n",
      "| 11|      Study Desk|  Furniture| 149.99|\n",
      "| 12|          Apples|       Food|    0.5|\n",
      "| 13|         Bananas|       Food|   0.25|\n",
      "| 14|         Oranges|       Food|   0.75|\n",
      "| 15|  Chicken Breast|       Food|   3.99|\n",
      "| 16|   Salmon Fillet|       Food|   5.99|\n",
      "| 17|  Leather Jacket|   Clothing| 199.99|\n",
      "| 18|     Winter Coat|   Clothing| 149.99|\n",
      "| 19|        Yoga Mat|     Sports|  19.99|\n",
      "| 20|    Dumbbell Set|     Sports|  49.99|\n",
      "+---+----------------+-----------+-------+\n",
      "only showing top 20 rows\n",
      "\n"
     ]
    }
   ],
   "source": [
    "df.drop('quantity').show()"
   ]
  },
  {
   "cell_type": "markdown",
   "id": "a19a6691-60df-44ac-97aa-1e67672a35e9",
   "metadata": {},
   "source": [
    "### Add new column"
   ]
  },
  {
   "cell_type": "code",
   "execution_count": 38,
   "id": "8be9045a-92a0-45f1-8125-4c0b94e18230",
   "metadata": {},
   "outputs": [
    {
     "name": "stdout",
     "output_type": "stream",
     "text": [
      "+---+----------------+-----------+--------+-------+------------------+\n",
      "| id|            name|   category|quantity|  price|       total_price|\n",
      "+---+----------------+-----------+--------+-------+------------------+\n",
      "|  1|          iPhone|Electronics|      10| 899.99|            8999.9|\n",
      "|  2|         Macbook|Electronics|       5|1299.99|           6499.95|\n",
      "|  3|            iPad|Electronics|      15| 499.99|           7499.85|\n",
      "|  4|      Samsung TV|Electronics|       8| 799.99|           6399.92|\n",
      "|  5|           LG TV|Electronics|      10| 699.99|            6999.9|\n",
      "|  6|      Nike Shoes|   Clothing|      30|  99.99|            2999.7|\n",
      "|  7|    Adidas Shoes|   Clothing|      25|  89.99|           2249.75|\n",
      "|  8| Sony Headphones|Electronics|      12| 149.99|           1799.88|\n",
      "|  9|Beats Headphones|Electronics|      20| 199.99|            3999.8|\n",
      "| 10|    Dining Table|  Furniture|      10| 249.99|            2499.9|\n",
      "| 11|      Study Desk|  Furniture|       8| 149.99|           1199.92|\n",
      "| 12|          Apples|       Food|     100|    0.5|              50.0|\n",
      "| 13|         Bananas|       Food|     150|   0.25|              37.5|\n",
      "| 14|         Oranges|       Food|     120|   0.75|              90.0|\n",
      "| 15|  Chicken Breast|       Food|      50|   3.99|             199.5|\n",
      "| 16|   Salmon Fillet|       Food|      30|   5.99|179.70000000000002|\n",
      "| 17|  Leather Jacket|   Clothing|      15| 199.99|2999.8500000000004|\n",
      "| 18|     Winter Coat|   Clothing|      10| 149.99|            1499.9|\n",
      "| 19|        Yoga Mat|     Sports|      20|  19.99|399.79999999999995|\n",
      "| 20|    Dumbbell Set|     Sports|      15|  49.99|            749.85|\n",
      "+---+----------------+-----------+--------+-------+------------------+\n",
      "only showing top 20 rows\n",
      "\n"
     ]
    }
   ],
   "source": [
    "df.withColumn('total_price', df.quantity * df.price).show()"
   ]
  },
  {
   "cell_type": "markdown",
   "id": "6284546e-0b46-474a-bafa-42219686c3b3",
   "metadata": {},
   "source": [
    "### Alias: rename column for readability "
   ]
  },
  {
   "cell_type": "code",
   "execution_count": 40,
   "id": "71a651cb-65d0-46bc-ab38-f130519fae61",
   "metadata": {},
   "outputs": [
    {
     "name": "stdout",
     "output_type": "stream",
     "text": [
      "+---+----------------+-----------+--------+-------------+\n",
      "| id|            name|   category|quantity|product_price|\n",
      "+---+----------------+-----------+--------+-------------+\n",
      "|  1|          iPhone|Electronics|      10|       899.99|\n",
      "|  2|         Macbook|Electronics|       5|      1299.99|\n",
      "|  3|            iPad|Electronics|      15|       499.99|\n",
      "|  4|      Samsung TV|Electronics|       8|       799.99|\n",
      "|  5|           LG TV|Electronics|      10|       699.99|\n",
      "|  6|      Nike Shoes|   Clothing|      30|        99.99|\n",
      "|  7|    Adidas Shoes|   Clothing|      25|        89.99|\n",
      "|  8| Sony Headphones|Electronics|      12|       149.99|\n",
      "|  9|Beats Headphones|Electronics|      20|       199.99|\n",
      "| 10|    Dining Table|  Furniture|      10|       249.99|\n",
      "| 11|      Study Desk|  Furniture|       8|       149.99|\n",
      "| 12|          Apples|       Food|     100|          0.5|\n",
      "| 13|         Bananas|       Food|     150|         0.25|\n",
      "| 14|         Oranges|       Food|     120|         0.75|\n",
      "| 15|  Chicken Breast|       Food|      50|         3.99|\n",
      "| 16|   Salmon Fillet|       Food|      30|         5.99|\n",
      "| 17|  Leather Jacket|   Clothing|      15|       199.99|\n",
      "| 18|     Winter Coat|   Clothing|      10|       149.99|\n",
      "| 19|        Yoga Mat|     Sports|      20|        19.99|\n",
      "| 20|    Dumbbell Set|     Sports|      15|        49.99|\n",
      "+---+----------------+-----------+--------+-------------+\n",
      "only showing top 20 rows\n",
      "\n"
     ]
    }
   ],
   "source": [
    "df.withColumnRenamed('price', 'product_price').show()"
   ]
  },
  {
   "cell_type": "code",
   "execution_count": 41,
   "id": "b42d4a6a-0c03-4a87-8504-8174f5dccf13",
   "metadata": {},
   "outputs": [],
   "source": [
    "spark.stop()"
   ]
  },
  {
   "cell_type": "code",
   "execution_count": null,
   "id": "8576f46c-fe64-436b-9b58-3fd2c257b78a",
   "metadata": {},
   "outputs": [],
   "source": []
  }
 ],
 "metadata": {
  "kernelspec": {
   "display_name": "Python 3 (ipykernel)",
   "language": "python",
   "name": "python3"
  },
  "language_info": {
   "codemirror_mode": {
    "name": "ipython",
    "version": 3
   },
   "file_extension": ".py",
   "mimetype": "text/x-python",
   "name": "python",
   "nbconvert_exporter": "python",
   "pygments_lexer": "ipython3",
   "version": "3.10.11"
  }
 },
 "nbformat": 4,
 "nbformat_minor": 5
}
